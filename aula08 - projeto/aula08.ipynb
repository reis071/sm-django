{
 "cells": [
  {
   "cell_type": "markdown",
   "metadata": {},
   "source": [
    "# Projeto"
   ]
  },
  {
   "cell_type": "markdown",
   "metadata": {},
   "source": [
    "## Calculadora de IMC com Django"
   ]
  },
  {
   "cell_type": "markdown",
   "metadata": {},
   "source": [
    "\n",
    "### Objetivo\n",
    "Criar uma aplicação Django que permita calcular o Índice de Massa Corporal (IMC) de um usuário. Esta atividade prática envolve:\n",
    "\n",
    "- Criar uma view para o formulário de entrada de dados (peso e altura).\n",
    "\n",
    "- Criar uma view para o cálculo e exibição do IMC.\n",
    "\n",
    "- Configurar URLs e criar templates para exibir o formulário e o resultado.\n",
    "\n",
    "- Criar um model  do Usuario\n",
    "\n",
    "- Armazenar o IMC do usuario no banco de dados"
   ]
  }
 ],
 "metadata": {
  "language_info": {
   "name": "python"
  }
 },
 "nbformat": 4,
 "nbformat_minor": 2
}
