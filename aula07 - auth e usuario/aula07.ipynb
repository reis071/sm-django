{
 "cells": [
  {
   "cell_type": "markdown",
   "metadata": {},
   "source": [
    "# Autenticação e Superusuário no Django"
   ]
  },
  {
   "cell_type": "markdown",
   "metadata": {},
   "source": [
    "## O que é Autenticação?"
   ]
  },
  {
   "cell_type": "markdown",
   "metadata": {},
   "source": [
    "Autenticação é o processo de verificar a identidade de um usuário. No Django, isso é feito usando o sistema de autenticação integrado, que fornece todas as funcionalidades necessárias para:\n",
    "\n",
    "- Criar usuários.\n",
    "- Realizar login e logout.\n",
    "- Proteger rotas e views com permissões de acesso."
   ]
  },
  {
   "cell_type": "markdown",
   "metadata": {},
   "source": [
    "## Criando um Superusuário"
   ]
  },
  {
   "cell_type": "markdown",
   "metadata": {},
   "source": [
    "No Django, o superusuário é um tipo especial de usuário que tem acesso total ao admin do Django e a todas as funcionalidades do sistema."
   ]
  },
  {
   "cell_type": "markdown",
   "metadata": {},
   "source": [
    "Passos para criar um superusuário:\n",
    "\n",
    "    Execute o comando para criar um superusuário: No terminal, rode o seguinte comando:"
   ]
  },
  {
   "cell_type": "code",
   "execution_count": null,
   "metadata": {
    "vscode": {
     "languageId": "shellscript"
    }
   },
   "outputs": [],
   "source": [
    "python manage.py createsuperuser"
   ]
  },
  {
   "cell_type": "markdown",
   "metadata": {},
   "source": [
    "Preencha as informações necessárias: Você será solicitado a fornecer:\n",
    "\n",
    "- Nome de usuário\n",
    "- Email\n",
    "- Senha\n",
    "\n",
    "Após preencher esses dados, o superusuário será criado."
   ]
  },
  {
   "cell_type": "markdown",
   "metadata": {},
   "source": [
    "##  Como Funciona o Sistema de Autenticação do Django"
   ]
  },
  {
   "cell_type": "markdown",
   "metadata": {},
   "source": [
    "Django já vem com um sistema de autenticação robusto que inclui a gestão de usuários e grupos, além de permissões de acesso."
   ]
  },
  {
   "cell_type": "markdown",
   "metadata": {},
   "source": [
    "Principais Funcionalidades:\n",
    "\n",
    "**Login**: Valida as credenciais do usuário e inicia a sessão.\n",
    "\n",
    "**Logout**: Encerra a sessão do usuário.\n",
    "\n",
    "**Proteção de Views**: Permite restringir o acesso a certas páginas baseadas no estado de autenticação ou permissões do usuário."
   ]
  },
  {
   "cell_type": "markdown",
   "metadata": {},
   "source": [
    "##  Configurando o Sistema de Autenticação no Django"
   ]
  },
  {
   "cell_type": "markdown",
   "metadata": {},
   "source": [
    "#### Criar uma View de Cadastro"
   ]
  },
  {
   "cell_type": "markdown",
   "metadata": {},
   "source": [
    "Você pode utilizar a classe UserCreationForm, que já está disponível no Django, para facilitar o processo de criação de novos usuários."
   ]
  },
  {
   "cell_type": "code",
   "execution_count": null,
   "metadata": {
    "vscode": {
     "languageId": "shellscript"
    }
   },
   "outputs": [],
   "source": [
    "from django.shortcuts import render, redirect  # Importa as funções para renderizar templates e redirecionar URLs\n",
    "from django.contrib.auth.forms import UserCreationForm  # Importa o formulário padrão de criação de usuários do Django\n",
    "from django.contrib import messages  # Importa para enviar mensagens de sucesso ou erro\n",
    "\n",
    "# View para cadastro de usuário\n",
    "def register_view(request):\n",
    "    # Verifica se o método da requisição é POST (quando o formulário é enviado)\n",
    "    if request.method == 'POST':\n",
    "        # Cria uma instância do formulário com os dados enviados\n",
    "        form = UserCreationForm(request.POST)\n",
    "        # Verifica se os dados do formulário são válidos (ex.: senhas coincidem, usuário único, etc.)\n",
    "        if form.is_valid():\n",
    "            form.save()  # Salva o novo usuário no banco de dados\n",
    "            messages.success(request, 'Usuário registrado com sucesso!')  # Envia uma mensagem de sucesso\n",
    "            return redirect('login')  # Redireciona para a página de login após o registro\n",
    "    else:\n",
    "        form = UserCreationForm()  # Se o método for GET, cria um formulário vazio\n",
    "    \n",
    "    # Renderiza o template 'register.html', passando o formulário como contexto\n",
    "    return render(request, 'register.html', {'form': form})"
   ]
  },
  {
   "cell_type": "markdown",
   "metadata": {},
   "source": [
    "#### Criar o Template de Registro"
   ]
  },
  {
   "cell_type": "raw",
   "metadata": {
    "vscode": {
     "languageId": "raw"
    }
   },
   "source": [
    "<!DOCTYPE html>\n",
    "<html lang=\"en\">\n",
    "<head>\n",
    "    <meta charset=\"UTF-8\">\n",
    "    <meta name=\"viewport\" content=\"width=device-width, initial-scale=1.0\">\n",
    "    <title>Registrar</title>\n",
    "</head>\n",
    "<body>\n",
    "    <h2>Registrar</h2>\n",
    "    <form method=\"POST\">\n",
    "        {% csrf_token %}\n",
    "        {{ form.as_p }}  <!-- Renderiza o formulário -->\n",
    "        <button type=\"submit\">Registrar</button>\n",
    "    </form>\n",
    "    \n",
    "    <p>Já possui uma conta? <a href=\"{% url 'login' %}\">Faça login</a>.</p>\n",
    "</body>\n",
    "</html>\n"
   ]
  },
  {
   "cell_type": "markdown",
   "metadata": {},
   "source": [
    "#### View de Login\n",
    "\n",
    "A view de login será responsável por autenticar os usuários e iniciar a sessão."
   ]
  },
  {
   "cell_type": "code",
   "execution_count": null,
   "metadata": {},
   "outputs": [],
   "source": [
    "from django.shortcuts import render, redirect\n",
    "from django.contrib.auth import authenticate, login, logout\n",
    "from django.contrib.auth.forms import AuthenticationForm\n",
    "\n",
    "# View para login\n",
    "def login_view(request):\n",
    "    # Verifica se a requisição é do tipo POST, o que indica que o usuário está enviando os dados de login\n",
    "    if request.method == 'POST':\n",
    "        # Cria o formulário de autenticação com os dados enviados pelo usuário\n",
    "        form = AuthenticationForm(data=request.POST)\n",
    "        \n",
    "        # Verifica se o formulário é válido (credenciais corretas)\n",
    "        if form.is_valid():\n",
    "            # Obtém o nome de usuário e a senha dos campos validados do formulário\n",
    "            username = form.cleaned_data.get('username')\n",
    "            password = form.cleaned_data.get('password')\n",
    "            \n",
    "            # Autentica o usuário com as credenciais fornecidas (verifica no banco de dados)\n",
    "            user = authenticate(username=username, password=password)\n",
    "            \n",
    "            # Se o usuário for autenticado com sucesso, faz o login e redireciona para a página inicial\n",
    "            if user is not None:\n",
    "                login(request, user)\n",
    "                return redirect('home')  # Redireciona para a página inicial após o login bem-sucedido\n",
    "    else:\n",
    "        # Se a requisição não for POST (por exemplo, GET), cria um formulário vazio de login\n",
    "        form = AuthenticationForm()\n",
    "    \n",
    "    # Renderiza o template de login, passando o formulário para ser exibido na página\n",
    "    return render(request, 'login.html', {'form': form})\n",
    "\n",
    "# View para logout\n",
    "def logout_view(request):\n",
    "    # Realiza o logout do usuário, encerrando a sessão atual\n",
    "    logout(request)\n",
    "    \n",
    "    # Após o logout, redireciona o usuário para a página de login\n",
    "    return redirect('login')\n"
   ]
  },
  {
   "cell_type": "markdown",
   "metadata": {},
   "source": [
    "#### Templates de Login"
   ]
  },
  {
   "cell_type": "markdown",
   "metadata": {},
   "source": [
    "Agora vamos criar os templates para as views de login e logout."
   ]
  },
  {
   "cell_type": "raw",
   "metadata": {
    "vscode": {
     "languageId": "raw"
    }
   },
   "source": [
    "as_p<!DOCTYPE html>\n",
    "<html lang=\"pt-br\">\n",
    "<head>\n",
    "    <meta charset=\"UTF-8\">\n",
    "    <title>Login</title>\n",
    "</head>\n",
    "<body>\n",
    "    <h1>Login</h1>\n",
    "    \n",
    "    <form method=\"post\">\n",
    "        {% csrf_token %}\n",
    "        {{ form.as_p }}\n",
    "        <button type=\"submit\">Entrar</button>\n",
    "    </form>\n",
    "</body>\n",
    "</html>"
   ]
  },
  {
   "cell_type": "markdown",
   "metadata": {},
   "source": [
    "#### Protegendo Views com Login"
   ]
  },
  {
   "cell_type": "markdown",
   "metadata": {},
   "source": [
    "No Django, podemos restringir o acesso a certas views, garantindo que apenas usuários autenticados possam acessá-las. Isso pode ser feito usando o decorator @login_required."
   ]
  },
  {
   "cell_type": "code",
   "execution_count": null,
   "metadata": {},
   "outputs": [],
   "source": [
    "from django.contrib.auth.decorators import login_required\n",
    "\n",
    "@login_required\n",
    "def home_view(request):\n",
    "    return render(request, 'home.html')"
   ]
  },
  {
   "cell_type": "markdown",
   "metadata": {},
   "source": [
    "Com o decorator @login_required, apenas usuários autenticados podem acessar essa view. Se um usuário não autenticado tentar acessar a página, ele será redirecionado para a página de login.\n",
    "\n"
   ]
  }
 ],
 "metadata": {
  "language_info": {
   "name": "python"
  }
 },
 "nbformat": 4,
 "nbformat_minor": 2
}
